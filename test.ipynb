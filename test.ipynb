{
 "cells": [
  {
   "cell_type": "code",
   "execution_count": 2,
   "metadata": {},
   "outputs": [],
   "source": [
    "import cv2\n",
    "from pathlib import Path"
   ]
  },
  {
   "cell_type": "code",
   "execution_count": 9,
   "metadata": {},
   "outputs": [],
   "source": [
    "def load_sys_conf(sys_conf_path):\n",
    "    def parse_node(node):\n",
    "        result = {}\n",
    "        if node.isNone():\n",
    "            return None\n",
    "\n",
    "        # If the node is a map (dictionary in YAML)\n",
    "        if node.type() == cv2.FileNode_MAP:\n",
    "            keys = node.keys()\n",
    "            for key in keys:\n",
    "                result[key] = parse_node(node.getNode(key))\n",
    "        \n",
    "        # If the node is a sequence (list in YAML)\n",
    "        elif node.type() == cv2.FileNode_SEQ:\n",
    "            result = []\n",
    "            for i in range(node.size()):\n",
    "                result.append(parse_node(node.at(i)))\n",
    "        \n",
    "        # If the node is a single value\n",
    "        elif node.isInt():\n",
    "            result = int(node.real())\n",
    "        elif node.isReal():\n",
    "            result = float(node.real())\n",
    "        elif node.isString():\n",
    "            result = str(node.string())\n",
    "        \n",
    "        return result\n",
    "    \n",
    "    fs = cv2.FileStorage(sys_conf_path, cv2.FILE_STORAGE_READ)\n",
    "    sys_conf = parse_node(fs.root())\n",
    "    fs.release()\n",
    "    return sys_conf"
   ]
  },
  {
   "cell_type": "code",
   "execution_count": 10,
   "metadata": {},
   "outputs": [],
   "source": [
    "conf = load_sys_conf(\"/home/keunmo/workspace/easy_slam/Examples/KITTI00-02.yaml\")"
   ]
  },
  {
   "cell_type": "code",
   "execution_count": 11,
   "metadata": {},
   "outputs": [
    {
     "data": {
      "text/plain": [
       "{'Camera.fx': 718.856,\n",
       " 'Camera.fy': 718.856,\n",
       " 'Camera.cx': 607.1928,\n",
       " 'Camera.cy': 185.2157,\n",
       " 'Camera.k1': 0.0,\n",
       " 'Camera.k2': 0.0,\n",
       " 'Camera.p1': 0.0,\n",
       " 'Camera.p2': 0.0,\n",
       " 'Camera.width': 1241,\n",
       " 'Camera.height': 376,\n",
       " 'Camera.fps': 10.0,\n",
       " 'Camera.bf': 386.1448,\n",
       " 'Camera.RGB': 1,\n",
       " 'ThDepth': 35,\n",
       " 'LocalFeature': 'ORB',\n",
       " 'GlobalFeature': 'DBoW3',\n",
       " 'Matcher': 'BF',\n",
       " 'ORBextractor.nFeatures': 2000,\n",
       " 'ORBextractor.scaleFactor': 1.2,\n",
       " 'ORBextractor.nLevels': 8,\n",
       " 'ORBextractor.iniThFAST': 20,\n",
       " 'ORBextractor.minThFAST': 7,\n",
       " 'Viewer.KeyFrameSize': 0.6,\n",
       " 'Viewer.KeyFrameLineWidth': 2,\n",
       " 'Viewer.GraphLineWidth': 1,\n",
       " 'Viewer.PointSize': 2,\n",
       " 'Viewer.CameraSize': 0.7,\n",
       " 'Viewer.CameraLineWidth': 3,\n",
       " 'Viewer.ViewpointX': 0,\n",
       " 'Viewer.ViewpointY': -100,\n",
       " 'Viewer.ViewpointZ': -0.1,\n",
       " 'Viewer.ViewpointF': 2000}"
      ]
     },
     "execution_count": 11,
     "metadata": {},
     "output_type": "execute_result"
    }
   ],
   "source": [
    "conf"
   ]
  },
  {
   "cell_type": "code",
   "execution_count": null,
   "metadata": {},
   "outputs": [],
   "source": []
  }
 ],
 "metadata": {
  "kernelspec": {
   "display_name": "hloc",
   "language": "python",
   "name": "python3"
  },
  "language_info": {
   "codemirror_mode": {
    "name": "ipython",
    "version": 3
   },
   "file_extension": ".py",
   "mimetype": "text/x-python",
   "name": "python",
   "nbconvert_exporter": "python",
   "pygments_lexer": "ipython3",
   "version": "3.9.16"
  }
 },
 "nbformat": 4,
 "nbformat_minor": 2
}
